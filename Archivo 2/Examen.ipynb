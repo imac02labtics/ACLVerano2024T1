{
 "cells": [
  {
   "cell_type": "code",
   "execution_count": 1,
   "id": "9d7d65cb-cf75-4f35-b356-358ad4db9663",
   "metadata": {},
   "outputs": [
    {
     "name": "stdout",
     "output_type": "stream",
     "text": [
      "Setup terminado\n"
     ]
    },
    {
     "ename": "NameError",
     "evalue": "name 'null' is not defined",
     "output_type": "error",
     "traceback": [
      "\u001b[0;31m---------------------------------------------------------------------------\u001b[0m",
      "\u001b[0;31mNameError\u001b[0m                                 Traceback (most recent call last)",
      "Cell \u001b[0;32mIn[1], line 4\u001b[0m\n\u001b[1;32m      2\u001b[0m \u001b[38;5;28;01mimport\u001b[39;00m \u001b[38;5;21;01mCodeBase\u001b[39;00m\u001b[38;5;21;01m.\u001b[39;00m\u001b[38;5;21;01mDatosContinuos\u001b[39;00m \u001b[38;5;28;01mas\u001b[39;00m \u001b[38;5;21;01mdtCont\u001b[39;00m\n\u001b[1;32m      3\u001b[0m \u001b[38;5;28;01mimport\u001b[39;00m \u001b[38;5;21;01mCodeBase\u001b[39;00m\u001b[38;5;21;01m.\u001b[39;00m\u001b[38;5;21;01mGenerarGraficas\u001b[39;00m \u001b[38;5;28;01mas\u001b[39;00m \u001b[38;5;21;01mgraf\u001b[39;00m \n\u001b[0;32m----> 4\u001b[0m \u001b[38;5;28;01mimport\u001b[39;00m \u001b[38;5;21;01mCodeBase\u001b[39;00m\u001b[38;5;21;01m.\u001b[39;00m\u001b[38;5;21;01mCrearTabla\u001b[39;00m \u001b[38;5;28;01mas\u001b[39;00m \u001b[38;5;21;01mtb\u001b[39;00m\n\u001b[1;32m      5\u001b[0m \u001b[38;5;28;01mimport\u001b[39;00m \u001b[38;5;21;01mCodeBase\u001b[39;00m\u001b[38;5;21;01m.\u001b[39;00m\u001b[38;5;21;01mDatosDiscretosYCualitativos\u001b[39;00m \u001b[38;5;28;01mas\u001b[39;00m \u001b[38;5;21;01mdtDis\u001b[39;00m\n",
      "File \u001b[0;32m~/ACLVerano2024T1/Archivo 2/CodeBase/CrearTabla.py:5\u001b[0m\n\u001b[1;32m      1\u001b[0m {\n\u001b[1;32m      2\u001b[0m  \u001b[38;5;124m\"\u001b[39m\u001b[38;5;124mcells\u001b[39m\u001b[38;5;124m\"\u001b[39m: [\n\u001b[1;32m      3\u001b[0m   {\n\u001b[1;32m      4\u001b[0m    \u001b[38;5;124m\"\u001b[39m\u001b[38;5;124mcell_type\u001b[39m\u001b[38;5;124m\"\u001b[39m: \u001b[38;5;124m\"\u001b[39m\u001b[38;5;124mcode\u001b[39m\u001b[38;5;124m\"\u001b[39m,\n\u001b[0;32m----> 5\u001b[0m    \u001b[38;5;124m\"\u001b[39m\u001b[38;5;124mexecution_count\u001b[39m\u001b[38;5;124m\"\u001b[39m: \u001b[43mnull\u001b[49m,\n\u001b[1;32m      6\u001b[0m    \u001b[38;5;124m\"\u001b[39m\u001b[38;5;124mid\u001b[39m\u001b[38;5;124m\"\u001b[39m: \u001b[38;5;124m\"\u001b[39m\u001b[38;5;124m97409acc-21a2-427e-94e3-729191b6ac25\u001b[39m\u001b[38;5;124m\"\u001b[39m,\n\u001b[1;32m      7\u001b[0m    \u001b[38;5;124m\"\u001b[39m\u001b[38;5;124mmetadata\u001b[39m\u001b[38;5;124m\"\u001b[39m: {},\n\u001b[1;32m      8\u001b[0m    \u001b[38;5;124m\"\u001b[39m\u001b[38;5;124moutputs\u001b[39m\u001b[38;5;124m\"\u001b[39m: [],\n\u001b[1;32m      9\u001b[0m    \u001b[38;5;124m\"\u001b[39m\u001b[38;5;124msource\u001b[39m\u001b[38;5;124m\"\u001b[39m: [\n\u001b[1;32m     10\u001b[0m     \u001b[38;5;124m\"\u001b[39m\u001b[38;5;124m# Imprimir tabla usando pandas\u001b[39m\u001b[38;5;130;01m\\n\u001b[39;00m\u001b[38;5;124m\"\u001b[39m,\n\u001b[1;32m     11\u001b[0m     \u001b[38;5;124m\"\u001b[39m\u001b[38;5;124mimport pandas as pd\u001b[39m\u001b[38;5;130;01m\\n\u001b[39;00m\u001b[38;5;124m\"\u001b[39m,\n\u001b[1;32m     12\u001b[0m     \u001b[38;5;124m\"\u001b[39m\u001b[38;5;124mdef printTable(encabezados, contenido):\u001b[39m\u001b[38;5;130;01m\\n\u001b[39;00m\u001b[38;5;124m\"\u001b[39m,\n\u001b[1;32m     13\u001b[0m     \u001b[38;5;124m\"\u001b[39m\u001b[38;5;124m    if len(encabezados) == len(contenido):\u001b[39m\u001b[38;5;130;01m\\n\u001b[39;00m\u001b[38;5;124m\"\u001b[39m,\n\u001b[1;32m     14\u001b[0m     \u001b[38;5;124m\"\u001b[39m\u001b[38;5;124m        data = dict(zip(encabezados, contenido))\u001b[39m\u001b[38;5;130;01m\\n\u001b[39;00m\u001b[38;5;124m\"\u001b[39m,\n\u001b[1;32m     15\u001b[0m     \u001b[38;5;124m\"\u001b[39m\u001b[38;5;124m        df = pd.DataFrame(data)\u001b[39m\u001b[38;5;130;01m\\n\u001b[39;00m\u001b[38;5;124m\"\u001b[39m,\n\u001b[1;32m     16\u001b[0m     \u001b[38;5;124m\"\u001b[39m\u001b[38;5;124m        # Imprimir el DataFrame sin los índices\u001b[39m\u001b[38;5;130;01m\\n\u001b[39;00m\u001b[38;5;124m\"\u001b[39m,\n\u001b[1;32m     17\u001b[0m     \u001b[38;5;124m\"\u001b[39m\u001b[38;5;124m        print(df.to_string(index=False))\u001b[39m\u001b[38;5;130;01m\\n\u001b[39;00m\u001b[38;5;124m\"\u001b[39m,\n\u001b[1;32m     18\u001b[0m     \u001b[38;5;124m\"\u001b[39m\u001b[38;5;124m    else:\u001b[39m\u001b[38;5;130;01m\\n\u001b[39;00m\u001b[38;5;124m\"\u001b[39m,\n\u001b[1;32m     19\u001b[0m     \u001b[38;5;124m\"\u001b[39m\u001b[38;5;124m        print(\u001b[39m\u001b[38;5;130;01m\\\"\u001b[39;00m\u001b[38;5;124mLa longitud de encabezados y contenido no coincide\u001b[39m\u001b[38;5;130;01m\\\"\u001b[39;00m\u001b[38;5;124m)\u001b[39m\u001b[38;5;130;01m\\n\u001b[39;00m\u001b[38;5;124m\"\u001b[39m,\n\u001b[1;32m     20\u001b[0m     \u001b[38;5;124m\"\u001b[39m\u001b[38;5;130;01m\\n\u001b[39;00m\u001b[38;5;124m\"\u001b[39m,\n\u001b[1;32m     21\u001b[0m     \u001b[38;5;124m\"\u001b[39m\u001b[38;5;124m# Crear tabla HTML\u001b[39m\u001b[38;5;130;01m\\n\u001b[39;00m\u001b[38;5;124m\"\u001b[39m,\n\u001b[1;32m     22\u001b[0m     \u001b[38;5;124m\"\u001b[39m\u001b[38;5;124mfrom IPython.display import HTML, display\u001b[39m\u001b[38;5;130;01m\\n\u001b[39;00m\u001b[38;5;124m\"\u001b[39m,\n\u001b[1;32m     23\u001b[0m     \u001b[38;5;124m\"\u001b[39m\u001b[38;5;124mdef printHTMLTable(encabezados, contenido):\u001b[39m\u001b[38;5;130;01m\\n\u001b[39;00m\u001b[38;5;124m\"\u001b[39m,\n\u001b[1;32m     24\u001b[0m     \u001b[38;5;124m\"\u001b[39m\u001b[38;5;124m    if len(encabezados) == len(contenido):\u001b[39m\u001b[38;5;130;01m\\n\u001b[39;00m\u001b[38;5;124m\"\u001b[39m,\n\u001b[1;32m     25\u001b[0m     \u001b[38;5;124m\"\u001b[39m\u001b[38;5;124m        html = \u001b[39m\u001b[38;5;130;01m\\\"\u001b[39;00m\u001b[38;5;124m<center><table>\u001b[39m\u001b[38;5;130;01m\\\"\u001b[39;00m\u001b[38;5;130;01m\\n\u001b[39;00m\u001b[38;5;124m\"\u001b[39m,\n\u001b[1;32m     26\u001b[0m     \u001b[38;5;124m\"\u001b[39m\u001b[38;5;124m        html += \u001b[39m\u001b[38;5;130;01m\\\"\u001b[39;00m\u001b[38;5;124m<tr>\u001b[39m\u001b[38;5;130;01m\\\"\u001b[39;00m\u001b[38;5;130;01m\\n\u001b[39;00m\u001b[38;5;124m\"\u001b[39m,\n\u001b[1;32m     27\u001b[0m     \u001b[38;5;124m\"\u001b[39m\u001b[38;5;124m        for header in encabezados:\u001b[39m\u001b[38;5;130;01m\\n\u001b[39;00m\u001b[38;5;124m\"\u001b[39m,\n\u001b[1;32m     28\u001b[0m     \u001b[38;5;124m\"\u001b[39m\u001b[38;5;124m            html += f\u001b[39m\u001b[38;5;130;01m\\\"\u001b[39;00m\u001b[38;5;124m<th style=\u001b[39m\u001b[38;5;124m'\u001b[39m\u001b[38;5;124mborder: 1px #ccc solid; text-align: center;\u001b[39m\u001b[38;5;124m'\u001b[39m\u001b[38;5;124m>\u001b[39m\u001b[38;5;132;01m{header}\u001b[39;00m\u001b[38;5;124m</th>\u001b[39m\u001b[38;5;130;01m\\\"\u001b[39;00m\u001b[38;5;130;01m\\n\u001b[39;00m\u001b[38;5;124m\"\u001b[39m,\n\u001b[1;32m     29\u001b[0m     \u001b[38;5;124m\"\u001b[39m\u001b[38;5;124m        html += \u001b[39m\u001b[38;5;130;01m\\\"\u001b[39;00m\u001b[38;5;124m</tr>\u001b[39m\u001b[38;5;130;01m\\\"\u001b[39;00m\u001b[38;5;130;01m\\n\u001b[39;00m\u001b[38;5;124m\"\u001b[39m,\n\u001b[1;32m     30\u001b[0m     \u001b[38;5;124m\"\u001b[39m\u001b[38;5;124m        rowsNum = len(contenido[0])\u001b[39m\u001b[38;5;130;01m\\n\u001b[39;00m\u001b[38;5;124m\"\u001b[39m,\n\u001b[1;32m     31\u001b[0m     \u001b[38;5;124m\"\u001b[39m\u001b[38;5;124m        for row in range(rowsNum):\u001b[39m\u001b[38;5;130;01m\\n\u001b[39;00m\u001b[38;5;124m\"\u001b[39m,\n\u001b[1;32m     32\u001b[0m     \u001b[38;5;124m\"\u001b[39m\u001b[38;5;124m            html += \u001b[39m\u001b[38;5;130;01m\\\"\u001b[39;00m\u001b[38;5;124m<tr>\u001b[39m\u001b[38;5;130;01m\\\"\u001b[39;00m\u001b[38;5;130;01m\\n\u001b[39;00m\u001b[38;5;124m\"\u001b[39m,\n\u001b[1;32m     33\u001b[0m     \u001b[38;5;124m\"\u001b[39m\u001b[38;5;124m            for col in contenido:\u001b[39m\u001b[38;5;130;01m\\n\u001b[39;00m\u001b[38;5;124m\"\u001b[39m,\n\u001b[1;32m     34\u001b[0m     \u001b[38;5;124m\"\u001b[39m\u001b[38;5;124m                html += f\u001b[39m\u001b[38;5;130;01m\\\"\u001b[39;00m\u001b[38;5;124m<td style=\u001b[39m\u001b[38;5;124m'\u001b[39m\u001b[38;5;124mborder: 1px #ccc solid; text-align: center;\u001b[39m\u001b[38;5;124m'\u001b[39m\u001b[38;5;124m>\u001b[39m\u001b[38;5;132;01m{col[row]}\u001b[39;00m\u001b[38;5;124m</td>\u001b[39m\u001b[38;5;130;01m\\\"\u001b[39;00m\u001b[38;5;130;01m\\n\u001b[39;00m\u001b[38;5;124m\"\u001b[39m,\n\u001b[1;32m     35\u001b[0m     \u001b[38;5;124m\"\u001b[39m\u001b[38;5;124m            html += \u001b[39m\u001b[38;5;130;01m\\\"\u001b[39;00m\u001b[38;5;124m</tr>\u001b[39m\u001b[38;5;130;01m\\\"\u001b[39;00m\u001b[38;5;130;01m\\n\u001b[39;00m\u001b[38;5;124m\"\u001b[39m,\n\u001b[1;32m     36\u001b[0m     \u001b[38;5;124m\"\u001b[39m\u001b[38;5;124m        html += \u001b[39m\u001b[38;5;130;01m\\\"\u001b[39;00m\u001b[38;5;124m</table></center>\u001b[39m\u001b[38;5;130;01m\\\"\u001b[39;00m\u001b[38;5;130;01m\\n\u001b[39;00m\u001b[38;5;124m\"\u001b[39m,\n\u001b[1;32m     37\u001b[0m     \u001b[38;5;124m\"\u001b[39m\u001b[38;5;124m        \u001b[39m\u001b[38;5;130;01m\\n\u001b[39;00m\u001b[38;5;124m\"\u001b[39m,\n\u001b[1;32m     38\u001b[0m     \u001b[38;5;124m\"\u001b[39m\u001b[38;5;124m        display(HTML(html))\u001b[39m\u001b[38;5;130;01m\\n\u001b[39;00m\u001b[38;5;124m\"\u001b[39m,\n\u001b[1;32m     39\u001b[0m     \u001b[38;5;124m\"\u001b[39m\u001b[38;5;124m    else:\u001b[39m\u001b[38;5;130;01m\\n\u001b[39;00m\u001b[38;5;124m\"\u001b[39m,\n\u001b[1;32m     40\u001b[0m     \u001b[38;5;124m\"\u001b[39m\u001b[38;5;124m        print(\u001b[39m\u001b[38;5;130;01m\\\"\u001b[39;00m\u001b[38;5;124mVerificar longitud de encabezados y contenido\u001b[39m\u001b[38;5;130;01m\\\"\u001b[39;00m\u001b[38;5;124m)\u001b[39m\u001b[38;5;130;01m\\n\u001b[39;00m\u001b[38;5;124m\"\u001b[39m,\n\u001b[1;32m     41\u001b[0m     \u001b[38;5;124m\"\u001b[39m\u001b[38;5;130;01m\\n\u001b[39;00m\u001b[38;5;124m\"\u001b[39m,\n\u001b[1;32m     42\u001b[0m     \u001b[38;5;124m\"\u001b[39m\u001b[38;5;124mdef datosStrPorcentaje(fr, frAc):\u001b[39m\u001b[38;5;130;01m\\n\u001b[39;00m\u001b[38;5;124m\"\u001b[39m,\n\u001b[1;32m     43\u001b[0m     \u001b[38;5;124m\"\u001b[39m\u001b[38;5;124m    frStr, frAcStr = [], []\u001b[39m\u001b[38;5;130;01m\\n\u001b[39;00m\u001b[38;5;124m\"\u001b[39m,\n\u001b[1;32m     44\u001b[0m     \u001b[38;5;124m\"\u001b[39m\u001b[38;5;124m    for i in range(len(fr)):\u001b[39m\u001b[38;5;130;01m\\n\u001b[39;00m\u001b[38;5;124m\"\u001b[39m,\n\u001b[1;32m     45\u001b[0m     \u001b[38;5;124m\"\u001b[39m\u001b[38;5;124m        frStr.append(str(fr[i]) + \u001b[39m\u001b[38;5;130;01m\\\"\u001b[39;00m\u001b[38;5;124m%\u001b[39m\u001b[38;5;130;01m\\\"\u001b[39;00m\u001b[38;5;124m)\u001b[39m\u001b[38;5;130;01m\\n\u001b[39;00m\u001b[38;5;124m\"\u001b[39m,\n\u001b[1;32m     46\u001b[0m     \u001b[38;5;124m\"\u001b[39m\u001b[38;5;124m    for i in range(len(frAc)):\u001b[39m\u001b[38;5;130;01m\\n\u001b[39;00m\u001b[38;5;124m\"\u001b[39m,\n\u001b[1;32m     47\u001b[0m     \u001b[38;5;124m\"\u001b[39m\u001b[38;5;124m        frAcStr.append(str(frAc[i]) + \u001b[39m\u001b[38;5;130;01m\\\"\u001b[39;00m\u001b[38;5;124m%\u001b[39m\u001b[38;5;130;01m\\\"\u001b[39;00m\u001b[38;5;124m)\u001b[39m\u001b[38;5;130;01m\\n\u001b[39;00m\u001b[38;5;124m\"\u001b[39m,\n\u001b[1;32m     48\u001b[0m     \u001b[38;5;124m\"\u001b[39m\u001b[38;5;124m    return frStr, frAcStr\u001b[39m\u001b[38;5;124m\"\u001b[39m\n\u001b[1;32m     49\u001b[0m    ]\n\u001b[1;32m     50\u001b[0m   }\n\u001b[1;32m     51\u001b[0m  ],\n\u001b[1;32m     52\u001b[0m  \u001b[38;5;124m\"\u001b[39m\u001b[38;5;124mmetadata\u001b[39m\u001b[38;5;124m\"\u001b[39m: {\n\u001b[1;32m     53\u001b[0m   \u001b[38;5;124m\"\u001b[39m\u001b[38;5;124mkernelspec\u001b[39m\u001b[38;5;124m\"\u001b[39m: {\n\u001b[1;32m     54\u001b[0m    \u001b[38;5;124m\"\u001b[39m\u001b[38;5;124mdisplay_name\u001b[39m\u001b[38;5;124m\"\u001b[39m: \u001b[38;5;124m\"\u001b[39m\u001b[38;5;124mPython 3 (ipykernel)\u001b[39m\u001b[38;5;124m\"\u001b[39m,\n\u001b[1;32m     55\u001b[0m    \u001b[38;5;124m\"\u001b[39m\u001b[38;5;124mlanguage\u001b[39m\u001b[38;5;124m\"\u001b[39m: \u001b[38;5;124m\"\u001b[39m\u001b[38;5;124mpython\u001b[39m\u001b[38;5;124m\"\u001b[39m,\n\u001b[1;32m     56\u001b[0m    \u001b[38;5;124m\"\u001b[39m\u001b[38;5;124mname\u001b[39m\u001b[38;5;124m\"\u001b[39m: \u001b[38;5;124m\"\u001b[39m\u001b[38;5;124mpython3\u001b[39m\u001b[38;5;124m\"\u001b[39m\n\u001b[1;32m     57\u001b[0m   },\n\u001b[1;32m     58\u001b[0m   \u001b[38;5;124m\"\u001b[39m\u001b[38;5;124mlanguage_info\u001b[39m\u001b[38;5;124m\"\u001b[39m: {\n\u001b[1;32m     59\u001b[0m    \u001b[38;5;124m\"\u001b[39m\u001b[38;5;124mcodemirror_mode\u001b[39m\u001b[38;5;124m\"\u001b[39m: {\n\u001b[1;32m     60\u001b[0m     \u001b[38;5;124m\"\u001b[39m\u001b[38;5;124mname\u001b[39m\u001b[38;5;124m\"\u001b[39m: \u001b[38;5;124m\"\u001b[39m\u001b[38;5;124mipython\u001b[39m\u001b[38;5;124m\"\u001b[39m,\n\u001b[1;32m     61\u001b[0m     \u001b[38;5;124m\"\u001b[39m\u001b[38;5;124mversion\u001b[39m\u001b[38;5;124m\"\u001b[39m: \u001b[38;5;241m3\u001b[39m\n\u001b[1;32m     62\u001b[0m    },\n\u001b[1;32m     63\u001b[0m    \u001b[38;5;124m\"\u001b[39m\u001b[38;5;124mfile_extension\u001b[39m\u001b[38;5;124m\"\u001b[39m: \u001b[38;5;124m\"\u001b[39m\u001b[38;5;124m.py\u001b[39m\u001b[38;5;124m\"\u001b[39m,\n\u001b[1;32m     64\u001b[0m    \u001b[38;5;124m\"\u001b[39m\u001b[38;5;124mmimetype\u001b[39m\u001b[38;5;124m\"\u001b[39m: \u001b[38;5;124m\"\u001b[39m\u001b[38;5;124mtext/x-python\u001b[39m\u001b[38;5;124m\"\u001b[39m,\n\u001b[1;32m     65\u001b[0m    \u001b[38;5;124m\"\u001b[39m\u001b[38;5;124mname\u001b[39m\u001b[38;5;124m\"\u001b[39m: \u001b[38;5;124m\"\u001b[39m\u001b[38;5;124mpython\u001b[39m\u001b[38;5;124m\"\u001b[39m,\n\u001b[1;32m     66\u001b[0m    \u001b[38;5;124m\"\u001b[39m\u001b[38;5;124mnbconvert_exporter\u001b[39m\u001b[38;5;124m\"\u001b[39m: \u001b[38;5;124m\"\u001b[39m\u001b[38;5;124mpython\u001b[39m\u001b[38;5;124m\"\u001b[39m,\n\u001b[1;32m     67\u001b[0m    \u001b[38;5;124m\"\u001b[39m\u001b[38;5;124mpygments_lexer\u001b[39m\u001b[38;5;124m\"\u001b[39m: \u001b[38;5;124m\"\u001b[39m\u001b[38;5;124mipython3\u001b[39m\u001b[38;5;124m\"\u001b[39m,\n\u001b[1;32m     68\u001b[0m    \u001b[38;5;124m\"\u001b[39m\u001b[38;5;124mversion\u001b[39m\u001b[38;5;124m\"\u001b[39m: \u001b[38;5;124m\"\u001b[39m\u001b[38;5;124m3.11.4\u001b[39m\u001b[38;5;124m\"\u001b[39m\n\u001b[1;32m     69\u001b[0m   }\n\u001b[1;32m     70\u001b[0m  },\n\u001b[1;32m     71\u001b[0m  \u001b[38;5;124m\"\u001b[39m\u001b[38;5;124mnbformat\u001b[39m\u001b[38;5;124m\"\u001b[39m: \u001b[38;5;241m4\u001b[39m,\n\u001b[1;32m     72\u001b[0m  \u001b[38;5;124m\"\u001b[39m\u001b[38;5;124mnbformat_minor\u001b[39m\u001b[38;5;124m\"\u001b[39m: \u001b[38;5;241m5\u001b[39m\n\u001b[1;32m     73\u001b[0m }\n",
      "\u001b[0;31mNameError\u001b[0m: name 'null' is not defined"
     ]
    }
   ],
   "source": [
    "\n",
    "import CodeBase.Datos_Fa_Fr_FrAc as simpleData \n",
    "import CodeBase.DatosContinuos as dtCont\n",
    "import CodeBase.GenerarGraficas as graf \n",
    "import CodeBase.CrearTabla as tb\n",
    "import CodeBase.DatosDiscretosYCualitativos as dtDis\n"
   ]
  },
  {
   "cell_type": "markdown",
   "id": "9398b813-be91-4eea-93f6-64e02b4deb05",
   "metadata": {
    "jp-MarkdownHeadingCollapsed": true
   },
   "source": [
    "## Ejercicio 7\n",
    "*Deporte.* Se entrevistó a 30 personas para que indicaran cuál es su equipo de futbol preferido. Los resultados fueron los siguientes:  \n",
    "**a.** Construye la distribución de frecuencias correspondiente.  \n",
    "**b.** Construye un diagrama de barras y uno circular.  "
   ]
  },
  {
   "cell_type": "code",
   "execution_count": null,
   "id": "ee6ab077-8557-4b50-b97a-fb1fbfd3503f",
   "metadata": {},
   "outputs": [],
   "source": [
    "# Datos Iniciales\n",
    "datosEj7 = [\n",
    "    'Pumas','América','Chivas','Pumas','Chivas','Chivas','América','Toluca','Toluca','Pumas',\n",
    "    'Santos','Necaxa','América','América','América','Pumas','Santos','Pumas','Pumas','Pumas',\n",
    "    'América','Chivas','América','Pumas','Necaxa','Toluca','Chivas','América','Toluca','Santos'\n",
    "]\n",
    "# Datos\n",
    "clases, fa, faAc, fr, frAc = dtDisc.generateQualitativeData(datosEj7)\n",
    "frStr, frAcStr = tb.datosStrPorcentaje(fr, frAc)\n",
    "\n",
    "# Tabla\n",
    "encabezados = [\"Clases\", \"Fa\", \"Fr\", \"Fr Acum\"]\n",
    "contenido = [clases, fa, frStr, frAcStr]\n",
    "tb.printHTMLTable(encabezados, contenido)\n",
    "\n",
    "# Gráficas\n",
    "graf.createBarDiagram(clases, fa)\n",
    "graf.createPieChart(clases, fa, fr)"
   ]
  },
  {
   "cell_type": "markdown",
   "id": "5150a106-69cf-41dd-828c-392eb7395e81",
   "metadata": {},
   "source": [
    "## Ejercicio 8\n",
    "*Tecnología.* Se preguntó a 30 jóvenes cuántas horas dedicaban cada día a navegar en internet (el tiempo que dedican a sesiones de chat y a las redes sociales quedan incluidos). Los resultados son los siguientes:  \n",
    "**a.** ¿Qué tipo de datos se maneja en este problema?  \n",
    "**b.** Construye la distribución de frecuencias correspondiente.  \n",
    "**c.** Traza un histograma y una ojiva.  "
   ]
  },
  {
   "cell_type": "code",
   "execution_count": null,
   "id": "794ee078-f1b4-45e5-a812-2ea2a732092e",
   "metadata": {},
   "outputs": [],
   "source": [
    "# Datos Iniciales\n",
    "datosEj8 = [\n",
    "    2.5,4.5,5.8,2.2,5.7,5.3,4.0,0.9,2.5,2.3,3.2,4.9,2.7,3.7,3.8,4.9,2.8,3.6,4.2,3.1,7.2,1.9,5.9,3.3,2.9,1.1,1.7,2.6,3.1,4.4\n",
    "]\n",
    "# Respuesta a\n",
    "print(\"a. Los datos manejados en este problema son Continuos\")\n",
    "\n",
    "# Datos\n",
    "clases, limsInf, limsSup, mrksClases, fa, fr, frAc = dtCont.generateGroupedData(datosEj8,1,6)\n",
    "frStr, frAcStr = tb.datosStrPorcentaje(fr, frAc)\n",
    "\n",
    "# Tabla\n",
    "encabezados = [\"Clases\", \"Límites inferiores\", \"Límites superiores\", \"Marca de clase\", \"Fa\", \"Fr\", \"FrAcum.\"]\n",
    "contenido = [clases, limsInf, limsSup, mrksClases, fa, frStr, frAcStr]\n",
    "tb.printHTMLTable(encabezados, contenido)\n",
    "\n",
    "# Gráficas\n",
    "graf.createHistogram(mrksClases, fr) \n",
    "graf.createOjiva(mrksClases, frAc)"
   ]
  },
  {
   "cell_type": "markdown",
   "id": "4f550e3b-93c0-425e-a138-8c30d5a57ec5",
   "metadata": {},
   "source": [
    "## Ejercicio 12. \n",
    "*Nutrición.* El número de calorías correspondiente a los alimentos tipo sándwich que se sirven en un negocio de comida rápida se presenta a continuación:  \n",
    "**a.** Realiza un histograma usando seis clases. Describe la forma de la distribución de los datos.  \n",
    "**b.** Traza una ojiva y expón tus conclusiones.  "
   ]
  },
  {
   "cell_type": "code",
   "execution_count": null,
   "id": "daab167b-b9b9-4478-8a7d-1b4de777c29b",
   "metadata": {},
   "outputs": [],
   "source": [
    "# Datos Iniciales\n",
    "datosEj12 = [\n",
    "    250,790,470,510,500,330,300,750,580,740,420,260,440,770,400,540,530,330,390,380,340,460,530,260,410,360,270,510,630,330\n",
    "]\n",
    "print(len(datosEj12))\n",
    "# Respuesta a\n",
    "print(\"a. Los datos manejados en este problema son Continuos\")\n",
    "\n",
    "# Datos\n",
    "clases, limsInf, limsSup, mrksClases, fa, fr, frAc = dtCont.generateGroupedData(datosEj12,2,6)\n",
    "frStr, frAcStr = tb.datosStrPorcentaje(fr, frAc)\n",
    "print(sum(fa))\n",
    "# Tabla\n",
    "encabezados = [\"Clases\", \"Límites inferiores\", \"Límites superiores\", \"Marca de clase\", \"Fa\", \"Fr\", \"FrAcum.\"]\n",
    "contenido = [clases, limsInf, limsSup, mrksClases, fa, frStr, frAcStr]\n",
    "tb.printHTMLTable(encabezados, contenido)\n",
    "\n",
    "# Gráficas\n",
    "graf.createHistogram(mrksClases, fr) \n",
    "graf.createOjiva(mrksClases, frAc)"
   ]
  },
  {
   "cell_type": "markdown",
   "id": "31d75a0c-3cbe-4454-bb92-4c2b05214ef8",
   "metadata": {},
   "source": [
    "## Ejercicio 15. \n",
    "Sociedad. En un estudio se desea conocer cuáles son los apellidos más comunes en México. Para ello se les preguntó a 100 personas su apellido y los resultados son los siguientes:\n",
    "- a) Construye una tabla de frecuencias."
   ]
  },
  {
   "cell_type": "code",
   "execution_count": null,
   "id": "7fb89311-ed0f-4eb6-844f-c3ac05987d68",
   "metadata": {},
   "outputs": [],
   "source": [
    "datosEje15 = ['ramirez','rodrigez','hernandez','hernandez','rodrigez','rodrigez','gonzalez','gonzalez','ramirez','hernandez',\n",
    "        'garcia','martinez','lopez','gonzalez','martinez','lopez','lopez','gonzalez','gutierrez','martinez',\n",
    "        'gonzalez','rodrigez','perez','rodrigez','ramirez','sanchez','martinez','lopez','sanchez','garcia',\n",
    "        'rodrigez','hernandez','gonzalez','sanchez','perez','rodrigez','lopez','martinez','flores','hernandez',\n",
    "        'perez','garcia','martinez','hernandez','sanchez','ramirez','garcia','gonzalez','garcia','flores',\n",
    "        'martinez','garcia','ramirez','gonzales','hernandez','lopez','sanchez','martinez','martinez','perez',\n",
    "        'garcia','gonzalez','garcia','gutierrez','hernandez','martinez','garcia','hernandez','garcia','gonzalez',\n",
    "        'lopez','hernandez','rodrigez','martinez','gonzalez','garcia','hernandez','ramirez','flores','hernandez',\n",
    "        'gutierrez','garcia','hernandez','gonzalez','garcia','garcia','flores','lopez','perez','sanchez',\n",
    "        'lopez','gutierrez','sanchez','rodrigez','hernandez','hernandez','perez','sanchez','lopez','martinez']\n",
    "\n",
    "# Datos\n",
    "clases, fa, faAc, fr, frAc = dtDisc.generateQualitativeData(datosEje15)\n",
    "frStr, frAcStr = tb.datosStrPorcentaje(fr, frAc)\n",
    "\n",
    "# Tabla\n",
    "encabezados = [\"Clases\", \"Fa\", \"Fr\", \"Fr Acum\"]\n",
    "contenido = [clases, fa, frStr, frAcStr]\n",
    "tb.printHTMLTable(encabezados, contenido)\n",
    "\n",
    "# Gráficas\n",
    "graf.createBarDiagram(clases, fa)"
   ]
  }
 ],
 "metadata": {
  "kernelspec": {
   "display_name": "Python 3 (ipykernel)",
   "language": "python",
   "name": "python3"
  },
  "language_info": {
   "codemirror_mode": {
    "name": "ipython",
    "version": 3
   },
   "file_extension": ".py",
   "mimetype": "text/x-python",
   "name": "python",
   "nbconvert_exporter": "python",
   "pygments_lexer": "ipython3",
   "version": "3.11.4"
  }
 },
 "nbformat": 4,
 "nbformat_minor": 5
}
