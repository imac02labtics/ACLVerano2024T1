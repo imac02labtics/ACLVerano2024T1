{
 "cells": [
  {
   "cell_type": "code",
   "execution_count": 1,
   "id": "9d7d65cb-cf75-4f35-b356-358ad4db9663",
   "metadata": {},
   "outputs": [
    {
     "ename": "ModuleNotFoundError",
     "evalue": "No module named 'CodeBase'",
     "output_type": "error",
     "traceback": [
      "\u001b[0;31m---------------------------------------------------------------------------\u001b[0m",
      "\u001b[0;31mModuleNotFoundError\u001b[0m                       Traceback (most recent call last)",
      "Cell \u001b[0;32mIn[1], line 1\u001b[0m\n\u001b[0;32m----> 1\u001b[0m \u001b[38;5;28;01mimport\u001b[39;00m \u001b[38;5;21;01mCodeBase\u001b[39;00m\u001b[38;5;21;01m.\u001b[39;00m\u001b[38;5;21;01mCrearTabla\u001b[39;00m \u001b[38;5;28;01mas\u001b[39;00m \u001b[38;5;21;01mtb\u001b[39;00m\n\u001b[1;32m      2\u001b[0m \u001b[38;5;28;01mimport\u001b[39;00m \u001b[38;5;21;01mCodeBase\u001b[39;00m\u001b[38;5;21;01m.\u001b[39;00m\u001b[38;5;21;01mDatos_Fa_Fr_FrAc\u001b[39;00m \u001b[38;5;28;01mas\u001b[39;00m \u001b[38;5;21;01msimpleData\u001b[39;00m \n\u001b[1;32m      3\u001b[0m \u001b[38;5;28;01mimport\u001b[39;00m \u001b[38;5;21;01mCodeBase\u001b[39;00m\u001b[38;5;21;01m.\u001b[39;00m\u001b[38;5;21;01mDatosContinuos\u001b[39;00m \u001b[38;5;28;01mas\u001b[39;00m \u001b[38;5;21;01mdtCont\u001b[39;00m\n",
      "\u001b[0;31mModuleNotFoundError\u001b[0m: No module named 'CodeBase'"
     ]
    }
   ],
   "source": [
    "import CodeBase.CrearTabla as tb\n",
    "import CodeBase.Datos_Fa_Fr_FrAc as simpleData \n",
    "import CodeBase.DatosContinuos as dtCont\n",
    "import CodeBase.DatosDiscretosYCualitativos as dtDisc \n",
    "import CodeBase.GenerarGraficas as graf \n"
   ]
  },
  {
   "cell_type": "markdown",
   "id": "5150a106-69cf-41dd-828c-392eb7395e81",
   "metadata": {},
   "source": [
    "## Ejercicio 8\n",
    "*Tecnología.* Se preguntó a 30 jóvenes cuántas horas dedicaban cada día a navegar en internet (el tiempo que dedican a sesiones de chat y a las redes sociales quedan incluidos). Los resultados son los siguientes:  \n",
    "**a.** ¿Qué tipo de datos se maneja en este problema?  \n",
    "**b.** Construye la distribución de frecuencias correspondiente.  \n",
    "**c.** Traza un histograma y una ojiva.  "
   ]
  },
  {
   "cell_type": "code",
   "execution_count": null,
   "id": "794ee078-f1b4-45e5-a812-2ea2a732092e",
   "metadata": {},
   "outputs": [],
   "source": [
    "# Datos Iniciales\n",
    "datosEj8 = [\n",
    "    2.5,4.5,5.8,2.2,5.7,5.3,4.0,0.9,2.5,2.3,3.2,4.9,2.7,3.7,3.8,4.9,2.8,3.6,4.2,3.1,7.2,1.9,5.9,3.3,2.9,1.1,1.7,2.6,3.1,4.4\n",
    "]\n",
    "# Respuesta a\n",
    "print(\"a. Los datos manejados en este problema son Continuos\")\n",
    "\n",
    "# Datos\n",
    "clases, limsInf, limsSup, mrksClases, fa, fr, frAc = dtCont.generateGroupedData(datosEj8, 1,6)\n",
    "frStr, frAcStr = tb.datosStrPorcentaje(fr, frAc)\n",
    "\n",
    "# Tabla\n",
    "encabezados = [\"Clases\", \"Límites inferiores\", \"Límites superiores\", \"Marca de clase\", \"Fa\", \"Fr\", \"FrAcum.\"]\n",
    "contenido = [clases, limsInf, limsSup, mrksClases, fa, frStr, frAcStr]\n",
    "tb.printHTMLTable(encabezados, contenido)\n",
    "\n",
    "# Gráficas\n",
    "graf.createHistogram(mrksClases, fr) \n",
    "graf.createOjiva(mrksClases, frAc)"
   ]
  },
  {
   "cell_type": "markdown",
   "id": "4f550e3b-93c0-425e-a138-8c30d5a57ec5",
   "metadata": {},
   "source": [
    "## Ejercicio 12. \n",
    "*Nutrición.* El número de calorías correspondiente a los alimentos tipo sándwich que se sirven en un negocio de comida rápida se presenta a continuación:  \n",
    "**a.** Realiza un histograma usando seis clases. Describe la forma de la distribución de los datos.  \n",
    "**b.** Traza una ojiva y expón tus conclusiones.  "
   ]
  },
  {
   "cell_type": "code",
   "execution_count": null,
   "id": "daab167b-b9b9-4478-8a7d-1b4de777c29b",
   "metadata": {},
   "outputs": [],
   "source": [
    "# Datos Iniciales\n",
    "datosEj12 = [\n",
    "    250,790,470,510,500,330,300,750,580,740,420,260,440,770,400,540,530,330,390,380,340,460,530,260,410,360,270,510,630,330\n",
    "]\n",
    "print(len(datosEj12))\n",
    "# Respuesta a\n",
    "print(\"a. Los datos manejados en este problema son Continuos\")\n",
    "\n",
    "# Datos\n",
    "clases, limsInf, limsSup, mrksClases, fa, fr, frAc = dtCont.generateGroupedData(datosEj12,2,6)\n",
    "frStr, frAcStr = tb.datosStrPorcentaje(fr, frAc)\n",
    "print(sum(fa))\n",
    "# Tabla\n",
    "encabezados = [\"Clases\", \"Límites inferiores\", \"Límites superiores\", \"Marca de clase\", \"Fa\", \"Fr\", \"FrAcum.\"]\n",
    "contenido = [clases, limsInf, limsSup, mrksClases, fa, frStr, frAcStr]\n",
    "tb.printHTMLTable(encabezados, contenido)\n",
    "\n",
    "# Gráficas\n",
    "graf.createHistogram(mrksClases, fr) \n",
    "graf.createOjiva(mrksClases, frAc)"
   ]
  }
 ],
 "metadata": {
  "kernelspec": {
   "display_name": "Python 3 (ipykernel)",
   "language": "python",
   "name": "python3"
  },
  "language_info": {
   "codemirror_mode": {
    "name": "ipython",
    "version": 3
   },
   "file_extension": ".py",
   "mimetype": "text/x-python",
   "name": "python",
   "nbconvert_exporter": "python",
   "pygments_lexer": "ipython3",
   "version": "3.11.4"
  }
 },
 "nbformat": 4,
 "nbformat_minor": 5
}
