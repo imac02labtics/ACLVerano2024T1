{
 "cells": [
  {
   "cell_type": "code",
   "execution_count": 8,
   "id": "bda2749f-6435-4cbe-a400-a367a319fb63",
   "metadata": {},
   "outputs": [
    {
     "ename": "ModuleNotFoundError",
     "evalue": "No module named 'CodeBase'",
     "output_type": "error",
     "traceback": [
      "\u001b[0;31m---------------------------------------------------------------------------\u001b[0m",
      "\u001b[0;31mModuleNotFoundError\u001b[0m                       Traceback (most recent call last)",
      "Cell \u001b[0;32mIn[8], line 1\u001b[0m\n\u001b[0;32m----> 1\u001b[0m \u001b[38;5;28;01mimport\u001b[39;00m \u001b[38;5;21;01mCodeBase\u001b[39;00m\u001b[38;5;21;01m.\u001b[39;00m\u001b[38;5;21;01mDatos_Fa_Fr_FrAc\u001b[39;00m \u001b[38;5;28;01mas\u001b[39;00m \u001b[38;5;21;01msimpleData\u001b[39;00m \n\u001b[1;32m      2\u001b[0m \u001b[38;5;28;01mimport\u001b[39;00m \u001b[38;5;21;01mCodeBase\u001b[39;00m\u001b[38;5;21;01m.\u001b[39;00m\u001b[38;5;21;01mDatosDiscretosYCualitativos\u001b[39;00m \u001b[38;5;28;01mas\u001b[39;00m \u001b[38;5;21;01mdtDisc\u001b[39;00m \n\u001b[1;32m      3\u001b[0m \u001b[38;5;28;01mimport\u001b[39;00m \u001b[38;5;21;01mCodeBase\u001b[39;00m\u001b[38;5;21;01m.\u001b[39;00m\u001b[38;5;21;01mDatosContinuos\u001b[39;00m \u001b[38;5;28;01mas\u001b[39;00m \u001b[38;5;21;01mdtCont\u001b[39;00m\n",
      "\u001b[0;31mModuleNotFoundError\u001b[0m: No module named 'CodeBase'"
     ]
    }
   ],
   "source": [
    "import CodeBase.Datos_Fa_Fr_FrAc as simpleData \n",
    "import CodeBase.DatosDiscretosYCualitativos as dtDisc \n",
    "import CodeBase.DatosContinuos as dtCont\n",
    "import CodeBase.GenerarGraficas as graf \n",
    "import CodeBase.CrearTabla as tb"
   ]
  },
  {
   "cell_type": "markdown",
   "id": "e8720623-7998-4dce-b0e2-0a9e6e522e94",
   "metadata": {},
   "source": [
    "12. Nutrición. El número de calorías correspondiente a los alimentos tipo sándwich que se sirven en\n",
    "un negocio de comida rápida se presenta a continuación:"
   ]
  },
  {
   "cell_type": "markdown",
   "id": "31488f32-7369-4e38-b5ac-78b4297f77e5",
   "metadata": {},
   "source": [
    "- a) Realiza un histograma usando seis clases. Describe la forma de la distribución de los datos.\n",
    "- b) Traza una ojiva y expón tus conclusiones."
   ]
  },
  {
   "cell_type": "code",
   "execution_count": 7,
   "id": "50814a87-958c-43d7-8f95-b8de950fcd96",
   "metadata": {},
   "outputs": [
    {
     "ename": "ModuleNotFoundError",
     "evalue": "No module named 'CodeBase'",
     "output_type": "error",
     "traceback": [
      "\u001b[0;31m---------------------------------------------------------------------------\u001b[0m",
      "\u001b[0;31mModuleNotFoundError\u001b[0m                       Traceback (most recent call last)",
      "Cell \u001b[0;32mIn[7], line 1\u001b[0m\n\u001b[0;32m----> 1\u001b[0m \u001b[38;5;28;01mimport\u001b[39;00m \u001b[38;5;21;01mCodeBase\u001b[39;00m\u001b[38;5;21;01m.\u001b[39;00m\u001b[38;5;21;01mDatosContinuos\u001b[39;00m \u001b[38;5;28;01mas\u001b[39;00m \u001b[38;5;21;01mdtCont\u001b[39;00m\n\u001b[1;32m      2\u001b[0m \u001b[38;5;66;03m# Datos Iniciales\u001b[39;00m\n\u001b[1;32m      3\u001b[0m datosEj12 \u001b[38;5;241m=\u001b[39m [\n\u001b[1;32m      4\u001b[0m     \u001b[38;5;241m250\u001b[39m,\u001b[38;5;241m790\u001b[39m,\u001b[38;5;241m470\u001b[39m,\u001b[38;5;241m510\u001b[39m,\u001b[38;5;241m500\u001b[39m,\u001b[38;5;241m330\u001b[39m,\u001b[38;5;241m300\u001b[39m,\u001b[38;5;241m750\u001b[39m,\u001b[38;5;241m580\u001b[39m,\u001b[38;5;241m740\u001b[39m,\u001b[38;5;241m420\u001b[39m,\u001b[38;5;241m260\u001b[39m,\u001b[38;5;241m440\u001b[39m,\u001b[38;5;241m770\u001b[39m,\u001b[38;5;241m400\u001b[39m,\u001b[38;5;241m540\u001b[39m,\u001b[38;5;241m530\u001b[39m,\u001b[38;5;241m330\u001b[39m,\u001b[38;5;241m390\u001b[39m,\u001b[38;5;241m380\u001b[39m,\u001b[38;5;241m340\u001b[39m,\u001b[38;5;241m460\u001b[39m,\u001b[38;5;241m530\u001b[39m,\u001b[38;5;241m260\u001b[39m,\u001b[38;5;241m410\u001b[39m,\u001b[38;5;241m360\u001b[39m,\u001b[38;5;241m270\u001b[39m,\u001b[38;5;241m510\u001b[39m,\u001b[38;5;241m630\u001b[39m,\u001b[38;5;241m330\u001b[39m\n\u001b[1;32m      5\u001b[0m ]\n",
      "\u001b[0;31mModuleNotFoundError\u001b[0m: No module named 'CodeBase'"
     ]
    }
   ],
   "source": [
    "# Datos Iniciales\n",
    "datosEj12 = [\n",
    "    250,790,470,510,500,330,300,750,580,740,420,260,440,770,400,540,530,330,390,380,340,460,530,260,410,360,270,510,630,330\n",
    "]\n",
    "print(len(datosEj12))\n",
    "# Respuesta a\n",
    "print(\"a. Los datos manejados en este problema son Continuos\")\n",
    "\n",
    "# Datos\n",
    "clases, limsInf, limsSup, mrksClases, fa, fr, frAc = dtCont.generateGroupedData(datosEj12,2,6)\n",
    "frStr, frAcStr = tb.datosStrPorcentaje(fr, frAc)\n",
    "print(sum(fa))\n",
    "# Tabla\n",
    "encabezados = [\"Clases\", \"Límites inferiores\", \"Límites superiores\", \"Marca de clase\", \"Fa\", \"Fr\", \"FrAcum.\"]\n",
    "contenido = [clases, limsInf, limsSup, mrksClases, fa, frStr, frAcStr]\n",
    "tb.printHTMLTable(encabezados, contenido)\n",
    "\n",
    "# Gráficas\n",
    "graf.createHistogram(mrksClases, fr) \n",
    "graf.createOjiva(mrksClases, frAc)"
   ]
  }
 ],
 "metadata": {
  "kernelspec": {
   "display_name": "Python 3 (ipykernel)",
   "language": "python",
   "name": "python3"
  },
  "language_info": {
   "codemirror_mode": {
    "name": "ipython",
    "version": 3
   },
   "file_extension": ".py",
   "mimetype": "text/x-python",
   "name": "python",
   "nbconvert_exporter": "python",
   "pygments_lexer": "ipython3",
   "version": "3.11.4"
  }
 },
 "nbformat": 4,
 "nbformat_minor": 5
}
